{
 "cells": [
  {
   "cell_type": "raw",
   "id": "8ce9feb7-406d-47a1-9b2c-69701adfb298",
   "metadata": {},
   "source": [
    "---\n",
    "title: \"Quarto Basics\"     \n",
    "format: html\n",
    "bibliography: references.bib\n",
    "jupyter: python3\n",
    "---"
   ]
  },
  {
   "cell_type": "markdown",
   "id": "271681f9-d0a7-4437-a1ff-1cbb775737ce",
   "metadata": {},
   "source": [
    "## Overview\n",
    "\n",
    "Knuth says always be literate [@knuth1984]."
   ]
  },
  {
   "cell_type": "code",
   "execution_count": 1,
   "id": "ea439047-5441-475d-b796-82b6cfddc1af",
   "metadata": {},
   "outputs": [
    {
     "data": {
      "text/plain": [
       "2"
      ]
     },
     "execution_count": 1,
     "metadata": {},
     "output_type": "execute_result"
    }
   ],
   "source": [
    "1 + 1"
   ]
  },
  {
   "cell_type": "markdown",
   "id": "289ff84f-92c2-42eb-9d4f-ce9692effe95",
   "metadata": {},
   "source": [
    "## References"
   ]
  }
 ],
 "metadata": {
  "kernelspec": {
   "display_name": "Python 3",
   "language": "python",
   "name": "python3"
  },
  "language_info": {
   "codemirror_mode": {
    "name": "ipython",
    "version": 3
   },
   "file_extension": ".py",
   "mimetype": "text/x-python",
   "name": "python",
   "nbconvert_exporter": "python",
   "pygments_lexer": "ipython3",
   "version": "3.9.5"
  }
 },
 "nbformat": 4,
 "nbformat_minor": 5
}
