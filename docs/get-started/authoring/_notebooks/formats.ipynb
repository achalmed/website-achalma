{
 "cells": [
  {
   "cell_type": "raw",
   "id": "8abd0990-a1a0-49a6-90cf-d386d20bb149",
   "metadata": {},
   "source": [
    "---\n",
    "title: \"Quarto Document\"\n",
    "author: \"Norah Jones\"\n",
    "format: \n",
    "  pdf:\n",
    "    toc: true\n",
    "    number-sections: true\n",
    "jupyter: python3\n",
    "---"
   ]
  }
 ],
 "metadata": {
  "kernelspec": {
   "display_name": "Python 3",
   "language": "python",
   "name": "python3"
  },
  "language_info": {
   "codemirror_mode": {
    "name": "ipython",
    "version": 3
   },
   "file_extension": ".py",
   "mimetype": "text/x-python",
   "name": "python",
   "nbconvert_exporter": "python",
   "pygments_lexer": "ipython3",
   "version": "3.9.5"
  }
 },
 "nbformat": 4,
 "nbformat_minor": 5
}
