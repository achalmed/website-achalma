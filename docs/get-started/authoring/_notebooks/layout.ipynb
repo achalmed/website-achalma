{
 "cells": [
  {
   "cell_type": "raw",
   "id": "9322cd72-8031-4ddd-8646-0687fa59e46f",
   "metadata": {},
   "source": [
    "---\n",
    "title: \"Quarto Layout\"     \n",
    "format: html\n",
    "reference-location: margin\n",
    "jupyter: python3\n",
    "---"
   ]
  },
  {
   "cell_type": "markdown",
   "id": "2ec50ba4-143b-40af-a824-268a4f210640",
   "metadata": {},
   "source": [
    "## Placing Colorbars\n",
    "\n",
    "Colorbars indicate the quantitative extent of image data. Placing in a figure is non-trivial because room needs to be made for them. The simplest case is just attaching a colorbar to each axes:^[See the [Matplotlib Gallery](https://matplotlib.org/stable/gallery/subplots_axes_and_figures/colorbar_placement.html) to explore colorbars further]."
   ]
  },
  {
   "cell_type": "code",
   "execution_count": null,
   "id": "93054e42-05d2-4cef-8988-af4690974b59",
   "metadata": {},
   "outputs": [],
   "source": [
    "#| code-fold: true\n",
    "#| column: screen-inset\n",
    "import matplotlib.pyplot as plt\n",
    "import numpy as np\n",
    "\n",
    "fig, axs = plt.subplots(2, 2)\n",
    "fig.set_size_inches(20, 8)\n",
    "cmaps = ['RdBu_r', 'viridis']\n",
    "for col in range(2):\n",
    "    for row in range(2):\n",
    "        ax = axs[row, col]\n",
    "        pcm = ax.pcolormesh(np.random.random((20, 20)) * (col + 1),\n",
    "                            cmap=cmaps[col])\n",
    "        fig.colorbar(pcm, ax=ax)\n",
    "plt.show()"
   ]
  }
 ],
 "metadata": {
  "kernelspec": {
   "display_name": "Python 3",
   "language": "python",
   "name": "python3"
  },
  "language_info": {
   "codemirror_mode": {
    "name": "ipython",
    "version": 3
   },
   "file_extension": ".py",
   "mimetype": "text/x-python",
   "name": "python",
   "nbconvert_exporter": "python",
   "pygments_lexer": "ipython3",
   "version": "3.9.5"
  }
 },
 "nbformat": 4,
 "nbformat_minor": 5
}
