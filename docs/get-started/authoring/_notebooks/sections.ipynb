{
 "cells": [
  {
   "cell_type": "raw",
   "id": "1caf5de2-c8e9-4365-8aee-bf9729a2c4e6",
   "metadata": {},
   "source": [
    "---\n",
    "title: \"Quarto Basics\"\n",
    "author: \"Norah Jones\"\n",
    "date: \"May 22, 2021\"\n",
    "toc: true\n",
    "number-sections: true\n",
    "---"
   ]
  },
  {
   "cell_type": "markdown",
   "id": "92a94c85-9b0a-4e9b-9ad8-860a5cc96a6e",
   "metadata": {},
   "source": [
    "## Colors\n",
    "\n",
    "- Red\n",
    "- Green \n",
    "- Blue"
   ]
  },
  {
   "cell_type": "markdown",
   "id": "bd5a941d-fda3-4acc-8c9b-44e99f852f5c",
   "metadata": {},
   "source": [
    "## Shapes\n",
    "\n",
    "- Square\n",
    "- Circle\n",
    "- Triangle"
   ]
  },
  {
   "cell_type": "markdown",
   "id": "d36e4e0c-b77a-4a28-ab55-d6894ef4f021",
   "metadata": {},
   "source": [
    "## Textures\n",
    "\n",
    "- Smooth\n",
    "- Bumpy\n",
    "- Fuzzy"
   ]
  }
 ],
 "metadata": {
  "kernelspec": {
   "display_name": "Python 3",
   "language": "python",
   "name": "python3"
  },
  "language_info": {
   "codemirror_mode": {
    "name": "ipython",
    "version": 3
   },
   "file_extension": ".py",
   "mimetype": "text/x-python",
   "name": "python",
   "nbconvert_exporter": "python",
   "pygments_lexer": "ipython3",
   "version": "3.9.5"
  }
 },
 "nbformat": 4,
 "nbformat_minor": 5
}
